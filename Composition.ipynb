{
 "cells": [
  {
   "cell_type": "code",
   "execution_count": 19,
   "metadata": {},
   "outputs": [],
   "source": [
    "import json\n",
    "\n",
    "class PetExport:\n",
    "    def export(self, dog):\n",
    "        raise NotImplementedError\n",
    "        \n",
    "\n",
    "class ExportJSON(PetExport):\n",
    "    def export(self, dog):\n",
    "        return json.dumps({\n",
    "            \"name\": dog.name,\n",
    "            \"breed\": dog.breed,\n",
    "        })\n",
    "\n",
    "    \n",
    "class ExportXML(PetExport):\n",
    "    def export(self, dog):\n",
    "        return \"\"\"<?xml version=\"1.0\" encoding=\"utf-8\"?>\n",
    "<dog>\n",
    "    <name>{0}</name>\n",
    "    <breed>{1}</breed>\n",
    "</dog>\n",
    "\"\"\".format(dog.name, dog.breed)\n",
    "    \n",
    "    \n",
    "class Pet:\n",
    "    def __init__(self, name):\n",
    "        self.name = name\n",
    "    \n",
    "\n",
    "class Dog(Pet):\n",
    "    def __init__(self, name, breed=None):\n",
    "        super().__init__(name)\n",
    "        self.breed = breed\n",
    "\n",
    "        \n",
    "class ExDog(Dog):\n",
    "    def __init__(self, name, breed=None, exporter=None):\n",
    "        super().__init__(name, breed=breed)\n",
    "        self._exporter = exporter or ExportJSON()\n",
    "        if not isinstance(self._exporter, PetExport):\n",
    "            raise ValueError(\"Bad exporter\", exporter)\n",
    "        \n",
    "    def export(self):\n",
    "        return self._exporter.export(self)\n",
    "    "
   ]
  },
  {
   "cell_type": "code",
   "execution_count": 20,
   "metadata": {},
   "outputs": [
    {
     "data": {
      "text/plain": [
       "'<?xml version=\"1.0\" encoding=\"utf-8\"?>\\n<dog>\\n    <name>Шарик</name>\\n    <breed>Дворняга</breed>\\n</dog>\\n'"
      ]
     },
     "execution_count": 20,
     "metadata": {},
     "output_type": "execute_result"
    }
   ],
   "source": [
    "dog = ExDog(\"Шарик\", \"Дворняга\", exporter=ExportXML())\n",
    "dog.export()"
   ]
  },
  {
   "cell_type": "code",
   "execution_count": 23,
   "metadata": {},
   "outputs": [
    {
     "data": {
      "text/plain": [
       "'{\"name\": \"\\\\u0422\\\\u0443\\\\u0437\\\\u0438\\\\u043a\", \"breed\": \"\\\\u041e\\\\u0432\\\\u0447\\\\u0430\\\\u0440\\\\u043a\\\\u0430\"}'"
      ]
     },
     "execution_count": 23,
     "metadata": {},
     "output_type": "execute_result"
    }
   ],
   "source": [
    "dog = ExDog(\"Тузик\", \"Овчарка\")\n",
    "dog.export()"
   ]
  },
  {
   "cell_type": "code",
   "execution_count": null,
   "metadata": {},
   "outputs": [],
   "source": []
  }
 ],
 "metadata": {
  "kernelspec": {
   "display_name": "Python 3",
   "language": "python",
   "name": "python3"
  },
  "language_info": {
   "codemirror_mode": {
    "name": "ipython",
    "version": 3
   },
   "file_extension": ".py",
   "mimetype": "text/x-python",
   "name": "python",
   "nbconvert_exporter": "python",
   "pygments_lexer": "ipython3",
   "version": "3.6.7"
  }
 },
 "nbformat": 4,
 "nbformat_minor": 2
}
