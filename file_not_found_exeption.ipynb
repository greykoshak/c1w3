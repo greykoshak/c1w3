{
 "cells": [
  {
   "cell_type": "code",
   "execution_count": 4,
   "metadata": {},
   "outputs": [
    {
     "name": "stdout",
     "output_type": "stream",
     "text": [
      "Файл не существует: /file/not/found\n"
     ]
    }
   ],
   "source": [
    "# Атрибут args\n",
    "import os.path\n",
    "\n",
    "filename = \"/file/not/found\"\n",
    "try:\n",
    "    if not os.path.exists(filename):\n",
    "        raise ValueError(\"Файл не существует\", filename)\n",
    "except ValueError as err:\n",
    "    message, file_name = err.args[0],err.args[1]\n",
    "    print(message+\":\", file_name)"
   ]
  },
  {
   "cell_type": "code",
   "execution_count": null,
   "metadata": {},
   "outputs": [],
   "source": []
  }
 ],
 "metadata": {
  "kernelspec": {
   "display_name": "Python 3",
   "language": "python",
   "name": "python3"
  },
  "language_info": {
   "codemirror_mode": {
    "name": "ipython",
    "version": 3
   },
   "file_extension": ".py",
   "mimetype": "text/x-python",
   "name": "python",
   "nbconvert_exporter": "python",
   "pygments_lexer": "ipython3",
   "version": "3.6.4"
  }
 },
 "nbformat": 4,
 "nbformat_minor": 2
}
